{
 "cells": [
  {
   "cell_type": "code",
   "execution_count": 2,
   "metadata": {},
   "outputs": [],
   "source": [
    "# 【NumPy徹底講座】この動画1本で数値計算に特化したPythonライブラリNumPyの基礎をマスター！\n",
    "# https://www.youtube.com/watch?v=k4YzlaOXfvQ\n",
    "\n",
    "import numpy as np"
   ]
  },
  {
   "cell_type": "code",
   "execution_count": 10,
   "metadata": {},
   "outputs": [
    {
     "data": {
      "text/plain": [
       "array([1, 2, 3, 4])"
      ]
     },
     "execution_count": 10,
     "metadata": {},
     "output_type": "execute_result"
    }
   ],
   "source": [
    "# 1問目：ベクトルの定義\n",
    "\n",
    "a=np.array([1,2,3,4])\n",
    "a"
   ]
  },
  {
   "cell_type": "code",
   "execution_count": 11,
   "metadata": {},
   "outputs": [
    {
     "data": {
      "text/plain": [
       "array([[ 4],\n",
       "       [-1],\n",
       "       [ 6]])"
      ]
     },
     "execution_count": 11,
     "metadata": {},
     "output_type": "execute_result"
    }
   ],
   "source": [
    "b=np.array([[4],\n",
    "            [-1],\n",
    "            [6]])\n",
    "b"
   ]
  },
  {
   "cell_type": "code",
   "execution_count": 17,
   "metadata": {},
   "outputs": [
    {
     "data": {
      "text/plain": [
       "array([[ 3, -2],\n",
       "       [ 7,  1]])"
      ]
     },
     "execution_count": 17,
     "metadata": {},
     "output_type": "execute_result"
    }
   ],
   "source": [
    "# 2問目：行列の定義\n",
    "\n",
    "C = np.array([[3,-2],\n",
    "              [7, 1]])\n",
    "C"
   ]
  },
  {
   "cell_type": "code",
   "execution_count": 18,
   "metadata": {},
   "outputs": [
    {
     "data": {
      "text/plain": [
       "array([[ 3, -2,  0,  1],\n",
       "       [ 7,  1, -1,  2],\n",
       "       [ 4, -5,  1,  3]])"
      ]
     },
     "execution_count": 18,
     "metadata": {},
     "output_type": "execute_result"
    }
   ],
   "source": [
    "D = np.array([[3, -2,  0, 1],\n",
    "              [7,  1, -1, 2],\n",
    "              [4, -5,  1, 3]])\n",
    "D"
   ]
  },
  {
   "cell_type": "code",
   "execution_count": 26,
   "metadata": {},
   "outputs": [
    {
     "data": {
      "text/plain": [
       "array([[0., 0.]])"
      ]
     },
     "execution_count": 26,
     "metadata": {},
     "output_type": "execute_result"
    }
   ],
   "source": [
    "# 3問目：ベクトルの作成\n",
    "\n",
    "a = np.zeros((1, 2))\n",
    "a"
   ]
  },
  {
   "cell_type": "code",
   "execution_count": 27,
   "metadata": {},
   "outputs": [
    {
     "data": {
      "text/plain": [
       "array([[1.],\n",
       "       [1.],\n",
       "       [1.],\n",
       "       [1.]])"
      ]
     },
     "execution_count": 27,
     "metadata": {},
     "output_type": "execute_result"
    }
   ],
   "source": [
    "b = np.ones((4, 1))\n",
    "b"
   ]
  },
  {
   "cell_type": "code",
   "execution_count": 33,
   "metadata": {},
   "outputs": [
    {
     "data": {
      "text/plain": [
       "array([[1., 0., 0.],\n",
       "       [0., 1., 0.],\n",
       "       [0., 0., 1.]])"
      ]
     },
     "execution_count": 33,
     "metadata": {},
     "output_type": "execute_result"
    }
   ],
   "source": [
    "# 4問目：行列の作成\n",
    "\n",
    "C = np.identity(3)\n",
    "C"
   ]
  },
  {
   "cell_type": "code",
   "execution_count": 44,
   "metadata": {},
   "outputs": [
    {
     "data": {
      "text/plain": [
       "array([[1., 0., 0., 0.],\n",
       "       [0., 1., 0., 0.],\n",
       "       [0., 0., 1., 0.]])"
      ]
     },
     "execution_count": 44,
     "metadata": {},
     "output_type": "execute_result"
    }
   ],
   "source": [
    "D = np.append(C, np.zeros((3,1)), axis=1)\n",
    "D"
   ]
  },
  {
   "cell_type": "code",
   "execution_count": 47,
   "metadata": {},
   "outputs": [
    {
     "data": {
      "text/plain": [
       "array([[1., 0., 0., 0.],\n",
       "       [0., 1., 0., 0.],\n",
       "       [0., 0., 1., 0.]])"
      ]
     },
     "execution_count": 47,
     "metadata": {},
     "output_type": "execute_result"
    }
   ],
   "source": [
    "np.eye(3, 4)"
   ]
  },
  {
   "cell_type": "code",
   "execution_count": 48,
   "metadata": {},
   "outputs": [],
   "source": [
    "# 5問目：基本情報の取得\n",
    "\n",
    "a = np.array([2, 3, 4])\n",
    "B = np.array([[ 1.2, 3.5,  5.1],\n",
    "              [-0.3, 1.1, -4.5]])"
   ]
  },
  {
   "cell_type": "code",
   "execution_count": 57,
   "metadata": {},
   "outputs": [
    {
     "name": "stdout",
     "output_type": "stream",
     "text": [
      "形状-次元：(3,) データ型：int32 要素数：3\n",
      "形状-次元：(2, 3) データ型：float64 要素数：6\n"
     ]
    }
   ],
   "source": [
    "print(f\"形状-次元：{a.shape} データ型：{a.dtype} 要素数：{a.size}\")\n",
    "print(f\"形状-次元：{B.shape} データ型：{B.dtype} 要素数：{B.size}\")"
   ]
  },
  {
   "cell_type": "code",
   "execution_count": 63,
   "metadata": {},
   "outputs": [
    {
     "data": {
      "text/plain": [
       "array([ 1,  3,  5,  7,  9, 11])"
      ]
     },
     "execution_count": 63,
     "metadata": {},
     "output_type": "execute_result"
    }
   ],
   "source": [
    "# 6問目：インデックスとスライシング\n",
    "\n",
    "a = np.arange(1, 13, 2)\n",
    "a"
   ]
  },
  {
   "cell_type": "code",
   "execution_count": 75,
   "metadata": {
    "scrolled": true
   },
   "outputs": [
    {
     "data": {
      "text/plain": [
       "array([9, 7, 5])"
      ]
     },
     "execution_count": 75,
     "metadata": {},
     "output_type": "execute_result"
    }
   ],
   "source": [
    "a[2:5]"
   ]
  },
  {
   "cell_type": "code",
   "execution_count": 76,
   "metadata": {},
   "outputs": [
    {
     "data": {
      "text/plain": [
       "array([11,  9,  7,  5,  3,  1])"
      ]
     },
     "execution_count": 76,
     "metadata": {},
     "output_type": "execute_result"
    }
   ],
   "source": [
    "a[::-1]"
   ]
  },
  {
   "cell_type": "code",
   "execution_count": 66,
   "metadata": {},
   "outputs": [],
   "source": [
    "B = np.array([[ 2,  4,  6],\n",
    "              [-1,  5, -3],\n",
    "              [ 0, -2,  3]])"
   ]
  },
  {
   "cell_type": "code",
   "execution_count": 70,
   "metadata": {},
   "outputs": [
    {
     "data": {
      "text/plain": [
       "array([2, 4, 6])"
      ]
     },
     "execution_count": 70,
     "metadata": {},
     "output_type": "execute_result"
    }
   ],
   "source": [
    "B[0]"
   ]
  },
  {
   "cell_type": "code",
   "execution_count": 71,
   "metadata": {},
   "outputs": [
    {
     "data": {
      "text/plain": [
       "0"
      ]
     },
     "execution_count": 71,
     "metadata": {},
     "output_type": "execute_result"
    }
   ],
   "source": [
    "B[2,0]"
   ]
  },
  {
   "cell_type": "code",
   "execution_count": 77,
   "metadata": {},
   "outputs": [
    {
     "data": {
      "text/plain": [
       "array([[ 5, -3],\n",
       "       [-2,  3]])"
      ]
     },
     "execution_count": 77,
     "metadata": {},
     "output_type": "execute_result"
    }
   ],
   "source": [
    "B[1:, 1:]"
   ]
  },
  {
   "cell_type": "code",
   "execution_count": 85,
   "metadata": {},
   "outputs": [],
   "source": [
    "# 7問目：四則演算\n",
    "\n",
    "a = np.array([[ 1, 3],\n",
    "              [-2, 4]])\n",
    "b = np.array([[2, -1],\n",
    "              [3,  0]])"
   ]
  },
  {
   "cell_type": "code",
   "execution_count": 86,
   "metadata": {},
   "outputs": [
    {
     "data": {
      "text/plain": [
       "array([[3, 2],\n",
       "       [1, 4]])"
      ]
     },
     "execution_count": 86,
     "metadata": {},
     "output_type": "execute_result"
    }
   ],
   "source": [
    "a + b"
   ]
  },
  {
   "cell_type": "code",
   "execution_count": 87,
   "metadata": {},
   "outputs": [
    {
     "data": {
      "text/plain": [
       "array([[-1,  4],\n",
       "       [-5,  4]])"
      ]
     },
     "execution_count": 87,
     "metadata": {},
     "output_type": "execute_result"
    }
   ],
   "source": [
    "a - b"
   ]
  },
  {
   "cell_type": "code",
   "execution_count": 90,
   "metadata": {},
   "outputs": [
    {
     "data": {
      "text/plain": [
       "array([[11, -1],\n",
       "       [ 8,  2]])"
      ]
     },
     "execution_count": 90,
     "metadata": {},
     "output_type": "execute_result"
    }
   ],
   "source": [
    "a @ b"
   ]
  },
  {
   "cell_type": "code",
   "execution_count": 91,
   "metadata": {},
   "outputs": [
    {
     "data": {
      "text/plain": [
       "array([[11, -1],\n",
       "       [ 8,  2]])"
      ]
     },
     "execution_count": 91,
     "metadata": {},
     "output_type": "execute_result"
    }
   ],
   "source": [
    "a.dot(b)"
   ]
  },
  {
   "cell_type": "code",
   "execution_count": 92,
   "metadata": {},
   "outputs": [
    {
     "data": {
      "text/plain": [
       "array([[ 2, -3],\n",
       "       [-6,  0]])"
      ]
     },
     "execution_count": 92,
     "metadata": {},
     "output_type": "execute_result"
    }
   ],
   "source": [
    "a * b"
   ]
  },
  {
   "cell_type": "code",
   "execution_count": 113,
   "metadata": {},
   "outputs": [],
   "source": [
    "# 8問目：転置\n",
    "\n",
    "a1 = np.array([2, 3, 4])\n",
    "a2 = np.array([[2, 3, 4]]) # <- 2次元にしないと転置できない\n",
    "B = np.array([[ 1.2, 3.5,  5.1],\n",
    "              [-0.3, 1.1, -4.5]])"
   ]
  },
  {
   "cell_type": "code",
   "execution_count": 125,
   "metadata": {},
   "outputs": [
    {
     "name": "stdout",
     "output_type": "stream",
     "text": [
      "1次元：(3,)⇒(3,)\tそのため転置できない\t変更前：[2 3 4]  変更後：[2 3 4]\n",
      "2次元：(1, 3)⇒(3, 1)\tそのため転置できる\t変更前：[[2 3 4]]\n",
      "変更後：\n",
      "[[2]\n",
      " [3]\n",
      " [4]]\n"
     ]
    }
   ],
   "source": [
    "print(f\"1次元：{a1.shape}⇒{a1.T.shape}\\tそのため転置できない\\t変更前：{a1}  変更後：{a1.T}\")\n",
    "print(f\"2次元：{a2.shape}⇒{a2.T.shape}\\tそのため転置できる\\t変更前：{a2}\\n変更後：\\n{a2.T}\")"
   ]
  },
  {
   "cell_type": "code",
   "execution_count": 121,
   "metadata": {},
   "outputs": [
    {
     "data": {
      "text/plain": [
       "array([[ 1.2, -0.3],\n",
       "       [ 3.5,  1.1],\n",
       "       [ 5.1, -4.5]])"
      ]
     },
     "execution_count": 121,
     "metadata": {},
     "output_type": "execute_result"
    }
   ],
   "source": [
    "B.T"
   ]
  },
  {
   "cell_type": "code",
   "execution_count": 133,
   "metadata": {},
   "outputs": [
    {
     "name": "stdout",
     "output_type": "stream",
     "text": [
      "[[ 0.   1. ]\n",
      " [-0.5  2. ]]\n",
      "[[1. 0.]\n",
      " [0. 1.]]\n"
     ]
    }
   ],
   "source": [
    "# 9問目：逆行列\n",
    "\n",
    "A = np.array([[4, -2],\n",
    "              [1,  0]])\n",
    "print(np.linalg.inv(A))\n",
    "print(A @ np.linalg.inv(A))"
   ]
  },
  {
   "cell_type": "code",
   "execution_count": 137,
   "metadata": {},
   "outputs": [
    {
     "data": {
      "text/plain": [
       "array([[ 2. , -0.5],\n",
       "       [ 0.5,  0. ]])"
      ]
     },
     "execution_count": 137,
     "metadata": {},
     "output_type": "execute_result"
    }
   ],
   "source": [
    "# 10問目：ブロードキャスト\n",
    "\n",
    "A =np.array([[4, -1],\n",
    "             [1,  0]])\n",
    "A * 0.5"
   ]
  },
  {
   "cell_type": "code",
   "execution_count": 139,
   "metadata": {},
   "outputs": [
    {
     "data": {
      "text/plain": [
       "array([[ 16,   2,  10],\n",
       "       [ -6,   0, -14]])"
      ]
     },
     "execution_count": 139,
     "metadata": {},
     "output_type": "execute_result"
    }
   ],
   "source": [
    "B = np.array([[ 8, 1,  5],\n",
    "              [-3, 0, -7]])\n",
    "B * 2"
   ]
  },
  {
   "cell_type": "code",
   "execution_count": 140,
   "metadata": {},
   "outputs": [],
   "source": [
    "# 11問目：ベクトルのサイズ変更\n",
    "\n",
    "D = np.arange(12)"
   ]
  },
  {
   "cell_type": "code",
   "execution_count": 144,
   "metadata": {},
   "outputs": [
    {
     "data": {
      "text/plain": [
       "array([[ 0,  1,  2,  3],\n",
       "       [ 4,  5,  6,  7],\n",
       "       [ 8,  9, 10, 11]])"
      ]
     },
     "execution_count": 144,
     "metadata": {},
     "output_type": "execute_result"
    }
   ],
   "source": [
    "D.reshape(3, 4)"
   ]
  },
  {
   "cell_type": "code",
   "execution_count": 162,
   "metadata": {},
   "outputs": [
    {
     "name": "stdout",
     "output_type": "stream",
     "text": [
      "最大値：6\n",
      "最小値：-3\n",
      "総和：14\n",
      "平均：1.556\n",
      "分散：9.136\n",
      "標準偏差：3.023\n"
     ]
    }
   ],
   "source": [
    "# 12問目：統計値\n",
    "\n",
    "B = np.array([[ 2,  4,  6],\n",
    "              [-1,  5, -3],\n",
    "              [ 0, -2,  3]])\n",
    "\n",
    "print(f\"最大値：{B.max()}\\n最小値：{B.min()}\\n総和：{B.sum()}\\n平均：\" +\n",
    "      f\"{B.mean():.3f}\\n分散：{B.var():.3f}\\n標準偏差：{B.std():.3f}\")"
   ]
  },
  {
   "cell_type": "code",
   "execution_count": 166,
   "metadata": {},
   "outputs": [
    {
     "name": "stdout",
     "output_type": "stream",
     "text": [
      "[[0.         1.        ]\n",
      " [1.41421356 2.        ]]\n",
      "[[ 1.          2.71828183]\n",
      " [ 7.3890561  54.59815003]]\n"
     ]
    }
   ],
   "source": [
    "#  13問目：ユニバーサル関数 part1\n",
    "\n",
    "A = np.array([[0, 1],\n",
    "              [2, 4]])\n",
    "print(np.sqrt(A))\n",
    "print(np.exp(A))"
   ]
  },
  {
   "cell_type": "code",
   "execution_count": 171,
   "metadata": {},
   "outputs": [
    {
     "name": "stdout",
     "output_type": "stream",
     "text": [
      "[[ 0.          3.14159265]\n",
      " [ 1.57079633 -0.78539816]]\n",
      "[[ 0.00000000e+00  1.22464680e-16]\n",
      " [ 1.00000000e+00 -7.07106781e-01]]\n",
      "[[ 1.00000000e+00 -1.00000000e+00]\n",
      " [ 6.12323400e-17  7.07106781e-01]]\n"
     ]
    }
   ],
   "source": [
    "# 14問目：ユニバーサル関数 part2\n",
    "\n",
    "A = np.array([0, np.pi, np.pi/2, -np.pi/4]).reshape(2, -1)\n",
    "print(A)\n",
    "print(np.sin(A))\n",
    "print(np.cos(A))"
   ]
  },
  {
   "cell_type": "code",
   "execution_count": 3,
   "metadata": {},
   "outputs": [
    {
     "name": "stdout",
     "output_type": "stream",
     "text": [
      "[[ 0  1 -1]\n",
      " [ 2  4 -3]\n",
      " [ 5 -2  7]]\n",
      "[[-2  0  1]\n",
      " [ 5 -1  2]\n",
      " [-6  3  4]]\n",
      "[[ 0  1 -1]\n",
      " [ 2  4 -3]\n",
      " [ 5 -2  7]\n",
      " [-2  0  1]\n",
      " [ 5 -1  2]\n",
      " [-6  3  4]]\n",
      "[[ 0  1 -1 -2  0  1]\n",
      " [ 2  4 -3  5 -1  2]\n",
      " [ 5 -2  7 -6  3  4]]\n"
     ]
    }
   ],
   "source": [
    "# 15問目：行列の結合\n",
    "\n",
    "A = np.array([0, 1, -1, 2, 4, -3, 5, -2, 7]).reshape(3, -1)\n",
    "B = np.array([-2, 0, 1, 5, -1, 2, -6, 3, 4]).reshape(3, -1)\n",
    "print(A)\n",
    "print(B)\n",
    "print(np.vstack([A, B]))\n",
    "print(np.hstack([A, B]))"
   ]
  },
  {
   "cell_type": "code",
   "execution_count": 48,
   "metadata": {},
   "outputs": [
    {
     "name": "stdout",
     "output_type": "stream",
     "text": [
      "[[ 0  1 -1]\n",
      " [ 2  4 -3]\n",
      " [ 5 -2  7]]\n",
      "\n",
      "[[-2  0  1]\n",
      " [ 5 -1  2]\n",
      " [-6  3  4]]\n",
      "\n",
      "[[ 0  1 -1]\n",
      " [ 2  4 -3]]\n",
      "\n",
      "[[ 5 -2  7]\n",
      " [-2  0  1]]\n",
      "\n",
      "[[ 5 -1  2]\n",
      " [-6  3  4]]\n",
      "\n",
      "[[ 0  1 -1]\n",
      " [ 2  4 -3]\n",
      " [ 5 -2  7]]\n",
      "\n",
      "[[-2  0  1]\n",
      " [ 5 -1  2]\n",
      " [-6  3  4]]\n",
      "\n"
     ]
    },
    {
     "data": {
      "text/plain": [
       "[None, None]"
      ]
     },
     "execution_count": 48,
     "metadata": {},
     "output_type": "execute_result"
    }
   ],
   "source": [
    "# 16問目：行列の分解\n",
    "\n",
    "C = np.vstack([A, B])\n",
    "D = np.hstack([A, B])\n",
    "\n",
    "[print(f\"{i}\\n\") for i in np.vsplit(C, 2)]\n",
    "[print(f\"{i}\\n\") for i in np.vsplit(C, 3)]\n",
    "\n",
    "[print(f\"{i}\\n\") for i in np.hsplit(D, 2)]"
   ]
  },
  {
   "cell_type": "code",
   "execution_count": 60,
   "metadata": {},
   "outputs": [],
   "source": [
    "# 17問目：グラフ化\n",
    "\n",
    "import matplotlib.pyplot as plt\n",
    "from matplotlib.pyplot import figure"
   ]
  },
  {
   "cell_type": "code",
   "execution_count": 84,
   "metadata": {},
   "outputs": [
    {
     "data": {
      "text/plain": [
       "[<matplotlib.lines.Line2D at 0x230c2cdb610>]"
      ]
     },
     "execution_count": 84,
     "metadata": {},
     "output_type": "execute_result"
    },
    {
     "data": {
      "image/png": "[encoded data removed]",
      "text/plain": [
       "<Figure size 432x288 with 1 Axes>"
      ]
     },
     "metadata": {
      "needs_background": "light"
     },
     "output_type": "display_data"
    }
   ],
   "source": [
    "x = np.linspace(0, 2*np.pi, 500)\n",
    "ys = np.sin(x)\n",
    "yc = np.cos(x)\n",
    "\n",
    "plt.plot(x, ys)\n",
    "plt.plot(x, yc)"
   ]
  },
  {
   "cell_type": "code",
   "execution_count": 88,
   "metadata": {},
   "outputs": [
    {
     "data": {
      "text/plain": [
       "(array([20., 21., 13., 23., 23.]),\n",
       " array([ 0. ,  5.6, 11.2, 16.8, 22.4, 28. ]),\n",
       " <BarContainer object of 5 artists>)"
      ]
     },
     "execution_count": 88,
     "metadata": {},
     "output_type": "execute_result"
    },
    {
     "data": {
      "image/png": "[encoded data removed]",
      "text/plain": [
       "<Figure size 432x288 with 1 Axes>"
      ]
     },
     "metadata": {
      "needs_background": "light"
     },
     "output_type": "display_data"
    }
   ],
   "source": [
    "h = np.random.randint(0, 30, 100)\n",
    "\n",
    "plt.hist(h, bins=5)"
   ]
  },
  {
   "cell_type": "code",
   "execution_count": 99,
   "metadata": {},
   "outputs": [
    {
     "name": "stdout",
     "output_type": "stream",
     "text": [
      "(4, 3) (3, 4)\n",
      "[[ 38.  40.  42.  48.]\n",
      " [  8.  10.  12.  12.]\n",
      " [-22. -20. -18. -24.]\n",
      " [-52. -50. -48. -60.]]\n"
     ]
    }
   ],
   "source": [
    "# 18問目：演習課題\n",
    "\n",
    "A = np.arange(-10, 13, 2).reshape(4, -1)\n",
    "\n",
    "B = np.append(np.identity(3), np.zeros((3,1)), axis=1)-2\n",
    "\n",
    "print(A.shape, B.shape)\n",
    "\n",
    "C = A @ B\n",
    "\n",
    "print(C)"
   ]
  },
  {
   "cell_type": "code",
   "execution_count": 119,
   "metadata": {},
   "outputs": [
    {
     "data": {
      "text/plain": [
       "array([[ 0.16666667, -0.13333333],\n",
       "       [-0.66666667,  0.63333333]])"
      ]
     },
     "execution_count": 119,
     "metadata": {},
     "output_type": "execute_result"
    }
   ],
   "source": [
    "# 19問目：演習課題\n",
    "\n",
    "D = C[:2, :2].T\n",
    "np.linalg.inv(D)"
   ]
  },
  {
   "cell_type": "code",
   "execution_count": 115,
   "metadata": {},
   "outputs": [
    {
     "data": {
      "text/plain": [
       "array([[38.,  8.],\n",
       "       [40., 10.]])"
      ]
     },
     "execution_count": 115,
     "metadata": {},
     "output_type": "execute_result"
    }
   ],
   "source": [
    "np.reshape(D, (2, 2)).T"
   ]
  },
  {
   "cell_type": "code",
   "execution_count": 122,
   "metadata": {},
   "outputs": [
    {
     "data": {
      "text/plain": [
       "<matplotlib.collections.PathCollection at 0x230c4188370>"
      ]
     },
     "execution_count": 122,
     "metadata": {},
     "output_type": "execute_result"
    },
    {
     "data": {
      "image/png": "[encoded data removed]",
      "text/plain": [
       "<Figure size 432x288 with 1 Axes>"
      ]
     },
     "metadata": {
      "needs_background": "light"
     },
     "output_type": "display_data"
    }
   ],
   "source": [
    "# 20問目：演習課題\n",
    "\n",
    "x = np.random.randint(-100, 100, 300)\n",
    "y = np.random.randint(-100, 100, 300)\n",
    "\n",
    "plt.scatter(x, y)"
   ]
  },
  {
   "cell_type": "code",
   "execution_count": null,
   "metadata": {},
   "outputs": [],
   "source": []
  }
 ],
 "metadata": {
  "kernelspec": {
   "display_name": "Python 3",
   "language": "python",
   "name": "python3"
  },
  "language_info": {
   "codemirror_mode": {
    "name": "ipython",
    "version": 3
   },
   "file_extension": ".py",
   "mimetype": "text/x-python",
   "name": "python",
   "nbconvert_exporter": "python",
   "pygments_lexer": "ipython3",
   "version": "3.8.6"
  }
 },
 "nbformat": 4,
 "nbformat_minor": 4
}
